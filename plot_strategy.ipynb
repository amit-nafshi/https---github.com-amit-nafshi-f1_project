{
  "cells": [
    {
      "cell_type": "markdown",
      "metadata": {},
      "source": [
        "\n",
        "# Tyre strategies during a race\n",
        "\n",
        "Plot all drivers' tyre strategies during a race.\n"
      ]
    },
    {
      "cell_type": "code",
      "execution_count": 10,
      "metadata": {
        "collapsed": false
      },
      "outputs": [],
      "source": [
        "from matplotlib import pyplot as plt\n",
        "\n",
        "import fastf1\n",
        "import fastf1.plotting"
      ]
    },
    {
      "cell_type": "markdown",
      "metadata": {},
      "source": [
        "Load the race session\n",
        "\n"
      ]
    },
    {
      "cell_type": "code",
      "execution_count": 11,
      "metadata": {
        "collapsed": false
      },
      "outputs": [
        {
          "name": "stderr",
          "output_type": "stream",
          "text": [
            "core           INFO \tLoading data for Monaco Grand Prix - Race [v3.4.4]\n",
            "req            INFO \tNo cached data found for session_info. Loading data...\n",
            "_api           INFO \tFetching session info data...\n",
            "req            INFO \tData has been written to cache!\n",
            "req            INFO \tNo cached data found for driver_info. Loading data...\n",
            "_api           INFO \tFetching driver list...\n",
            "req            INFO \tData has been written to cache!\n",
            "req            INFO \tNo cached data found for session_status_data. Loading data...\n",
            "_api           INFO \tFetching session status data...\n",
            "req            INFO \tData has been written to cache!\n",
            "req            INFO \tNo cached data found for lap_count. Loading data...\n",
            "_api           INFO \tFetching lap count data...\n",
            "req            INFO \tData has been written to cache!\n",
            "req            INFO \tNo cached data found for track_status_data. Loading data...\n",
            "_api           INFO \tFetching track status data...\n",
            "req            INFO \tData has been written to cache!\n",
            "req            INFO \tNo cached data found for _extended_timing_data. Loading data...\n",
            "_api           INFO \tFetching timing data...\n",
            "_api           INFO \tParsing timing data...\n",
            "req            INFO \tData has been written to cache!\n",
            "req            INFO \tNo cached data found for timing_app_data. Loading data...\n",
            "_api           INFO \tFetching timing app data...\n",
            "req            INFO \tData has been written to cache!\n",
            "core           INFO \tProcessing timing data...\n",
            "req            INFO \tNo cached data found for car_data. Loading data...\n",
            "_api           INFO \tFetching car data...\n",
            "_api           INFO \tParsing car data...\n",
            "req            INFO \tData has been written to cache!\n",
            "req            INFO \tNo cached data found for position_data. Loading data...\n",
            "_api           INFO \tFetching position data...\n",
            "_api           INFO \tParsing position data...\n",
            "req            INFO \tData has been written to cache!\n",
            "req            INFO \tNo cached data found for weather_data. Loading data...\n",
            "_api           INFO \tFetching weather data...\n",
            "req            INFO \tData has been written to cache!\n",
            "req            INFO \tNo cached data found for race_control_messages. Loading data...\n",
            "_api           INFO \tFetching race control messages...\n",
            "req            INFO \tData has been written to cache!\n",
            "core           INFO \tFinished loading data for 20 drivers: ['1', '14', '31', '44', '63', '16', '10', '55', '4', '81', '77', '21', '24', '23', '22', '11', '27', '2', '20', '18']\n"
          ]
        }
      ],
      "source": [
        "session = fastf1.get_session(2023, \"Monaco\", 'R')\n",
        "session.load()\n",
        "laps = session.laps"
      ]
    },
    {
      "cell_type": "markdown",
      "metadata": {},
      "source": [
        "Get the list of driver numbers\n",
        "\n"
      ]
    },
    {
      "cell_type": "code",
      "execution_count": 12,
      "metadata": {
        "collapsed": false
      },
      "outputs": [
        {
          "name": "stdout",
          "output_type": "stream",
          "text": [
            "['1', '14', '31', '44', '63', '16', '10', '55', '4', '81', '77', '21', '24', '23', '22', '11', '27', '2', '20', '18']\n"
          ]
        }
      ],
      "source": [
        "drivers = session.drivers\n",
        "print(drivers)"
      ]
    },
    {
      "cell_type": "markdown",
      "metadata": {},
      "source": [
        "Convert the driver numbers to three letter abbreviations\n",
        "\n"
      ]
    },
    {
      "cell_type": "code",
      "execution_count": 13,
      "metadata": {
        "collapsed": false
      },
      "outputs": [
        {
          "name": "stdout",
          "output_type": "stream",
          "text": [
            "['VER', 'ALO', 'OCO', 'HAM', 'RUS', 'LEC', 'GAS', 'SAI', 'NOR', 'PIA', 'BOT', 'DEV', 'ZHO', 'ALB', 'TSU', 'PER', 'HUL', 'SAR', 'MAG', 'STR']\n"
          ]
        }
      ],
      "source": [
        "drivers = [session.get_driver(driver)[\"Abbreviation\"] for driver in drivers]\n",
        "print(drivers)"
      ]
    },
    {
      "cell_type": "markdown",
      "metadata": {},
      "source": [
        "We need to find the stint length and compound used\n",
        "for every stint by every driver.\n",
        "We do this by first grouping the laps by the driver,\n",
        "the stint number, and the compound.\n",
        "And then counting the number of laps in each group.\n",
        "\n"
      ]
    },
    {
      "cell_type": "code",
      "execution_count": 14,
      "metadata": {
        "collapsed": false
      },
      "outputs": [],
      "source": [
        "stints = laps[[\"Driver\", \"Stint\", \"Compound\", \"LapNumber\"]]\n",
        "stints = stints.groupby([\"Driver\", \"Stint\", \"Compound\"])\n",
        "stints = stints.count().reset_index()"
      ]
    },
    {
      "cell_type": "markdown",
      "metadata": {},
      "source": [
        "The number in the LapNumber column now stands for the number of observations\n",
        "in that group aka the stint length.\n",
        "\n"
      ]
    },
    {
      "cell_type": "code",
      "execution_count": 15,
      "metadata": {
        "collapsed": false
      },
      "outputs": [
        {
          "name": "stdout",
          "output_type": "stream",
          "text": [
            "   Driver  Stint      Compound  StintLength\n",
            "0     ALB    1.0        MEDIUM           18\n",
            "1     ALB    2.0          HARD           34\n",
            "2     ALB    3.0  INTERMEDIATE           25\n",
            "3     ALO    1.0          HARD           54\n",
            "4     ALO    2.0        MEDIUM            1\n",
            "5     ALO    3.0  INTERMEDIATE           23\n",
            "6     BOT    1.0          HARD           51\n",
            "7     BOT    2.0  INTERMEDIATE           26\n",
            "8     DEV    1.0        MEDIUM           53\n",
            "9     DEV    2.0  INTERMEDIATE           24\n",
            "10    GAS    1.0          HARD           47\n",
            "11    GAS    2.0        MEDIUM            7\n",
            "12    GAS    3.0  INTERMEDIATE           24\n",
            "13    HAM    1.0        MEDIUM           31\n",
            "14    HAM    2.0          HARD           23\n",
            "15    HAM    3.0  INTERMEDIATE           24\n",
            "16    HUL    1.0        MEDIUM            1\n",
            "17    HUL    2.0          HARD           53\n",
            "18    HUL    3.0  INTERMEDIATE            5\n",
            "19    HUL    4.0           WET           17\n",
            "20    LEC    1.0          HARD           44\n",
            "21    LEC    2.0        MEDIUM           11\n",
            "22    LEC    3.0  INTERMEDIATE           23\n",
            "23    MAG    1.0          HARD           56\n",
            "24    MAG    2.0           WET           15\n",
            "25    NOR    1.0        MEDIUM           50\n",
            "26    NOR    2.0          HARD            4\n",
            "27    NOR    3.0  INTERMEDIATE           23\n",
            "28    OCO    1.0        MEDIUM           32\n",
            "29    OCO    2.0          HARD           22\n",
            "30    OCO    3.0  INTERMEDIATE           24\n",
            "31    PER    1.0        MEDIUM            1\n",
            "32    PER    2.0          HARD           33\n",
            "33    PER    3.0        MEDIUM           19\n",
            "34    PER    4.0  INTERMEDIATE            4\n",
            "35    PER    5.0           WET           13\n",
            "36    PER    6.0  INTERMEDIATE            6\n",
            "37    PIA    1.0          HARD           54\n",
            "38    PIA    2.0  INTERMEDIATE           23\n",
            "39    RUS    1.0          HARD           54\n",
            "40    RUS    2.0  INTERMEDIATE           24\n",
            "41    SAI    1.0          HARD           33\n",
            "42    SAI    2.0        MEDIUM           22\n",
            "43    SAI    3.0  INTERMEDIATE           23\n",
            "44    SAR    1.0        MEDIUM           20\n",
            "45    SAR    2.0          HARD            3\n",
            "46    SAR    3.0          SOFT           29\n",
            "47    SAR    4.0  INTERMEDIATE           24\n",
            "48    STR    1.0          HARD           51\n",
            "49    STR    2.0  INTERMEDIATE            3\n",
            "50    TSU    1.0        MEDIUM           53\n",
            "51    TSU    2.0  INTERMEDIATE           23\n",
            "52    VER    1.0        MEDIUM           55\n",
            "53    VER    2.0  INTERMEDIATE           23\n",
            "54    ZHO    1.0          SOFT            1\n",
            "55    ZHO    2.0          HARD           51\n",
            "56    ZHO    3.0  INTERMEDIATE           25\n"
          ]
        }
      ],
      "source": [
        "stints = stints.rename(columns={\"LapNumber\": \"StintLength\"})\n",
        "print(stints)"
      ]
    },
    {
      "cell_type": "markdown",
      "metadata": {},
      "source": [
        "Now we can plot the strategies for each driver\n",
        "\n"
      ]
    },
    {
      "cell_type": "code",
      "execution_count": 16,
      "metadata": {
        "collapsed": false
      },
      "outputs": [
        {
          "data": {
            "image/png": "[encoded data removed]",
            "text/plain": [
              "<Figure size 500x1000 with 1 Axes>"
            ]
          },
          "metadata": {},
          "output_type": "display_data"
        }
      ],
      "source": [
        "fig, ax = plt.subplots(figsize=(5, 10))\n",
        "\n",
        "for driver in drivers:\n",
        "    driver_stints = stints.loc[stints[\"Driver\"] == driver]\n",
        "\n",
        "    previous_stint_end = 0\n",
        "    for idx, row in driver_stints.iterrows():\n",
        "        # each row contains the compound name and stint length\n",
        "        # we can use these information to draw horizontal bars\n",
        "        compound_color = fastf1.plotting.get_compound_color(row[\"Compound\"],\n",
        "                                                            session=session)\n",
        "        plt.barh(\n",
        "            y=driver,\n",
        "            width=row[\"StintLength\"],\n",
        "            left=previous_stint_end,\n",
        "            color=compound_color,\n",
        "            edgecolor=\"black\",\n",
        "            fill=True\n",
        "        )\n",
        "\n",
        "        previous_stint_end += row[\"StintLength\"]"
      ]
    },
    {
      "cell_type": "markdown",
      "metadata": {},
      "source": [
        "Make the plot more readable and intuitive\n",
        "\n"
      ]
    },
    {
      "cell_type": "code",
      "execution_count": 19,
      "metadata": {
        "collapsed": false
      },
      "outputs": [
        {
          "data": {
            "image/png": "[encoded data removed]",
            "text/plain": [
              "<Figure size 640x480 with 1 Axes>"
            ]
          },
          "metadata": {},
          "output_type": "display_data"
        }
      ],
      "source": [
        "plt.title(\"2023 Monaco Grand Prix Strategies\")\n",
        "plt.xlabel(\"Lap Number\")\n",
        "plt.grid(False)\n",
        "# invert the y-axis so drivers that finish higher are closer to the top\n",
        "ax.invert_yaxis()"
      ]
    },
    {
      "cell_type": "markdown",
      "metadata": {},
      "source": [
        "Plot aesthetics\n",
        "\n"
      ]
    },
    {
      "cell_type": "code",
      "execution_count": 20,
      "metadata": {
        "collapsed": false
      },
      "outputs": [
        {
          "data": {
            "text/plain": [
              "<Figure size 640x480 with 0 Axes>"
            ]
          },
          "metadata": {},
          "output_type": "display_data"
        }
      ],
      "source": [
        "ax.spines['top'].set_visible(False)\n",
        "ax.spines['right'].set_visible(False)\n",
        "ax.spines['left'].set_visible(False)\n",
        "\n",
        "plt.tight_layout()\n",
        "plt.show()"
      ]
    },
    {
      "cell_type": "code",
      "execution_count": null,
      "metadata": {},
      "outputs": [],
      "source": []
    }
  ],
  "metadata": {
    "kernelspec": {
      "display_name": ".venv",
      "language": "python",
      "name": "python3"
    },
    "language_info": {
      "codemirror_mode": {
        "name": "ipython",
        "version": 3
      },
      "file_extension": ".py",
      "mimetype": "text/x-python",
      "name": "python",
      "nbconvert_exporter": "python",
      "pygments_lexer": "ipython3",
      "version": "3.13.0"
    }
  },
  "nbformat": 4,
  "nbformat_minor": 0
}
